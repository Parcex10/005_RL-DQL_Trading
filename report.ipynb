{
 "cells": [
  {
   "cell_type": "markdown",
   "id": "ce81576b",
   "metadata": {},
   "source": [
    "## 005 Reinsforment Leearning - Deep Q Learning Trading for Microsoft (MSFT)\n",
    "\n",
    "Autores: Adrián Herrera, Patrick F. Bárcena y Carlos Moreno\n"
   ]
  },
  {
   "cell_type": "markdown",
   "id": "0274f50e",
   "metadata": {},
   "source": [
    "### Marco Teórico:\n",
    "\n",
    "El **`Aprendizaje por Refuerzo (Reinforcement Learning, RL)`** es un paradigma de aprendizaje automático en el que un agente aprende a tomar decisiones secuenciales a través de la interacción con un entorno dinámico (ambiente). En lugar de utilizar datos etiquetados como en el aprendizaje supervisado, el agente explora distintas acciones, recibe recompensas o penalizaciones, y mejora progresivamente su estrategia para maximizar el retorno acumulado. \n",
    "\n",
    "Statquest hace un gran trabajo explicando esto, poniendo como ejemplo tomar la decisión probabilística de ir ya sea a Burguer King o M'cdonals por papas fritas, y que el desenlace positivo o negativo (reward) a la asisitencia aleatoria, será la variable que determine que tan probable será seguir asistiendo al lugar o no. \n",
    "\n",
    "En el contexto de **`trading algorítmico`**, RL ofrece una forma poderosa de entrenar agentes que aprenden cuándo **`comprar, vender o mantener`** activos financieros para optimizar métricas como beneficios acumulados, Sharpe ratio o drawdowns.\n",
    "\n",
    "---\n",
    "\n",
    "### ✅ **`¿Por qué usar RL/DQL en trading?`**\n",
    "- 🔄 **Secuencialidad:** Permite al agente aprender decisiones encadenadas (*¿vendo ahora o espero un día más?*).  \n",
    "- 📈 **Adaptabilidad:** Puede ajustarse a cambios dinámicos del mercado.  \n",
    "- 🎯 **Exploración vs explotación:** Balancea entre probar estrategias nuevas y optimizar las conocidas.  \n",
    "\n",
    "---\n",
    "\n",
    "### 🆚 **`Q-Learning vs Deep Q-Learning`**\n",
    "|                     | Q-Learning                        | Deep Q-Learning (DQL)           |\n",
    "|---------------------|-------------------------------------|-----------------------------------|\n",
    "| 🔢 **Representación** | Tabla Q discreta                  | Red neuronal para estimar valores Q |\n",
    "| 🧠 **Escalabilidad**   | Limitada (no funciona bien con muchos estados) | Escalable a espacios de estados grandes |\n",
    "| 🕒 **Entrenamiento**   | Rápido                            | Más pesado (requiere más cómputo) |\n",
    "| 📈 **Aplicación**      | Ambientes simples                 | Ambientes complejos (como trading real) |\n",
    "\n",
    "---\n",
    "\n",
    "### 💡 **`Contexto del proyecto`**\n",
    "En este proyecto desarrollamos un agente de trading utilizando **Deep Q-Learning (DQL)** para aprender a operar sobre datos históricos de **META (MSFT)**. Nuestro objetivo es evaluar cómo un agente entrenado mediante RL se compara con una estrategia pasiva como *Buy & Hold* y analizar sus ventajas y limitaciones.\n",
    "\n"
   ]
  },
  {
   "cell_type": "markdown",
   "id": "7aed0951",
   "metadata": {},
   "source": [
    "### 📖 Librerías"
   ]
  },
  {
   "cell_type": "code",
   "execution_count": null,
   "id": "0603d44d",
   "metadata": {
    "vscode": {
     "languageId": "plaintext"
    }
   },
   "outputs": [],
   "source": []
  },
  {
   "cell_type": "code",
   "execution_count": null,
   "id": "513594c6",
   "metadata": {
    "vscode": {
     "languageId": "plaintext"
    }
   },
   "outputs": [],
   "source": []
  },
  {
   "cell_type": "code",
   "execution_count": null,
   "id": "d342a295",
   "metadata": {
    "vscode": {
     "languageId": "plaintext"
    }
   },
   "outputs": [],
   "source": []
  }
 ],
 "metadata": {
  "language_info": {
   "name": "python"
  }
 },
 "nbformat": 4,
 "nbformat_minor": 5
}
